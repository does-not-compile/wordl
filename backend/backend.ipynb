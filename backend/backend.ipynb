{
 "cells": [
  {
   "cell_type": "markdown",
   "metadata": {},
   "source": [
    "# Hacking WORDL using AI"
   ]
  },
  {
   "cell_type": "markdown",
   "metadata": {},
   "source": [
    "## Intro"
   ]
  },
  {
   "cell_type": "markdown",
   "metadata": {},
   "source": [
    "### What is WORDL?\n",
    "On the off-chance you haven't heard about wordl, it is essentially a word guessing game. You get **6** attempts to guess a **5** letter word.\n",
    "Whenever you make a guess, WORDL gives you feedback on each letter, by color coding their background:\n",
    "1. Grey: The word we are looking for does not contain this letter\n",
    "1. Yellow: The letter is in the word but in the wrong spot\n",
    "1. Green: Nice! The letter and position of the letter are correct."
   ]
  },
  {
   "cell_type": "markdown",
   "metadata": {},
   "source": [
    "## Approach"
   ]
  },
  {
   "cell_type": "markdown",
   "metadata": {},
   "source": [
    "Two approaches:\n",
    "1. 'Blind Approach': contains all 5 letter words of the english language\n",
    "1. 'Biased Approach': contains all words wordl actually uses"
   ]
  },
  {
   "cell_type": "markdown",
   "metadata": {},
   "source": [
    "## What's needed\n",
    "\n",
    "### Knowledge\n",
    "We need to know 5 letter words of the english language\n",
    "\n",
    "### "
   ]
  },
  {
   "cell_type": "markdown",
   "metadata": {},
   "source": [
    "## Code"
   ]
  },
  {
   "cell_type": "code",
   "execution_count": 1,
   "metadata": {},
   "outputs": [],
   "source": [
    "# imports\n",
    "import pandas as pd\n",
    "import numpy as np\n",
    "import matplotlib.pyplot as plt"
   ]
  },
  {
   "cell_type": "code",
   "execution_count": 2,
   "metadata": {},
   "outputs": [],
   "source": [
    "# Get dictionary with 5 letter words\n",
    "with open(file='words.txt', mode='r') as f:\n",
    "    lines = f.readlines()\n",
    "f.close()\n",
    "\n",
    "lines = [l.strip() for l in lines]\n",
    "\n",
    "df_words = pd.DataFrame(lines, columns=['word'])"
   ]
  },
  {
   "cell_type": "code",
   "execution_count": 3,
   "metadata": {},
   "outputs": [
    {
     "data": {
      "image/png": "[encoded data removed]",
      "text/plain": [
       "<Figure size 1080x720 with 1 Axes>"
      ]
     },
     "metadata": {
      "needs_background": "light"
     },
     "output_type": "display_data"
    }
   ],
   "source": [
    "# Statistics\n",
    "\n",
    "# Words --> Letters\n",
    "df_words_letters = pd.DataFrame([[l for l in w] for w in df_words['word']])\n",
    "# starting letter\n",
    "fig, ax = plt.subplots(1, figsize=(15, 10))\n",
    "_ = ax.bar(x=df_words_letters[0].value_counts().index, height=df_words_letters[0].value_counts())\n",
    "_ = ax.set_xlabel('Starting letter')\n",
    "_ = ax.set_ylabel('Frequency')"
   ]
  },
  {
   "cell_type": "code",
   "execution_count": 4,
   "metadata": {},
   "outputs": [
    {
     "data": {
      "image/png": "[encoded data removed]",
      "text/plain": [
       "<Figure size 1080x720 with 1 Axes>"
      ]
     },
     "metadata": {
      "needs_background": "light"
     },
     "output_type": "display_data"
    }
   ],
   "source": [
    "# letter distribution within words\n",
    "letter_count = dict()\n",
    "\n",
    "for w in df_words['word']:\n",
    "    for l in w:\n",
    "        if l in letter_count.keys():\n",
    "            letter_count[l] += 1\n",
    "        else: letter_count[l] = 1\n",
    "\n",
    "df_letter_freq = pd.DataFrame.from_dict(letter_count, orient='index', columns=['frequency']).sort_values(by='frequency', ascending=False)\n",
    "\n",
    "fig, ax = plt.subplots(1, figsize=(15, 10))\n",
    "_ = ax.bar(x=df_letter_freq.index, height=df_letter_freq['frequency'])\n",
    "_ = ax.set_xlabel('Letter')\n",
    "_ = ax.set_ylabel('Frequency')"
   ]
  },
  {
   "cell_type": "code",
   "execution_count": 5,
   "metadata": {},
   "outputs": [
    {
     "data": {
      "text/html": [
       "<div>\n",
       "<style scoped>\n",
       "    .dataframe tbody tr th:only-of-type {\n",
       "        vertical-align: middle;\n",
       "    }\n",
       "\n",
       "    .dataframe tbody tr th {\n",
       "        vertical-align: top;\n",
       "    }\n",
       "\n",
       "    .dataframe thead th {\n",
       "        text-align: right;\n",
       "    }\n",
       "</style>\n",
       "<table border=\"1\" class=\"dataframe\">\n",
       "  <thead>\n",
       "    <tr style=\"text-align: right;\">\n",
       "      <th></th>\n",
       "      <th>word</th>\n",
       "    </tr>\n",
       "  </thead>\n",
       "  <tbody>\n",
       "    <tr>\n",
       "      <th>1635</th>\n",
       "      <td>salad</td>\n",
       "    </tr>\n",
       "    <tr>\n",
       "      <th>1636</th>\n",
       "      <td>sally</td>\n",
       "    </tr>\n",
       "    <tr>\n",
       "      <th>1637</th>\n",
       "      <td>salon</td>\n",
       "    </tr>\n",
       "    <tr>\n",
       "      <th>1638</th>\n",
       "      <td>salsa</td>\n",
       "    </tr>\n",
       "    <tr>\n",
       "      <th>1639</th>\n",
       "      <td>salty</td>\n",
       "    </tr>\n",
       "    <tr>\n",
       "      <th>1640</th>\n",
       "      <td>salve</td>\n",
       "    </tr>\n",
       "    <tr>\n",
       "      <th>1641</th>\n",
       "      <td>salvo</td>\n",
       "    </tr>\n",
       "  </tbody>\n",
       "</table>\n",
       "</div>"
      ],
      "text/plain": [
       "       word\n",
       "1635  salad\n",
       "1636  sally\n",
       "1637  salon\n",
       "1638  salsa\n",
       "1639  salty\n",
       "1640  salve\n",
       "1641  salvo"
      ]
     },
     "execution_count": 5,
     "metadata": {},
     "output_type": "execute_result"
    }
   ],
   "source": [
    "# so we should initially guess a word starting with S and containing most of the top letters\n",
    "df_words[df_words['word'].str.startswith('sal')]"
   ]
  },
  {
   "cell_type": "markdown",
   "metadata": {},
   "source": [
    "## Wordl Code"
   ]
  },
  {
   "cell_type": "code",
   "execution_count": 220,
   "metadata": {},
   "outputs": [],
   "source": [
    "class Wordle:\n",
    "    def __init__(self, wordlist, max_guesses: int = 6):\n",
    "        self.wordlist: list = wordlist\n",
    "        self.word: str = np.random.choice(wordlist)\n",
    "        self.guesses: list = list()\n",
    "        self.max_guesses: int = max_guesses\n",
    "        self.game_state: str = 'ONGOING'\n",
    "    \n",
    "    def state(self):\n",
    "        if len(self.guesses) > self.max_guesses: self.game_state = 'LOSS'\n",
    "        elif self.word in self.guesses: self.game_state = 'WIN'\n",
    "        else: self.game_state = 'ONGOING'\n",
    "\n",
    "    def guess(self, guess: str):\n",
    "        assert guess not in self.guesses\n",
    "        self.guesses.append(guess)\n",
    "        results = list()\n",
    "        for guessed_letter, actual_letter in zip(guess, self.word):\n",
    "            if guessed_letter == actual_letter: results.append('GREEN')\n",
    "            elif guessed_letter in self.word: results.append('YELLOW')\n",
    "            else: results.append('GREY')\n",
    "        self.state()\n",
    "        return tuple((p, l, r) for (p, r), l  in zip(enumerate(results), guess)) # position, letter, result"
   ]
  },
  {
   "cell_type": "markdown",
   "metadata": {},
   "source": [
    "## Guesser"
   ]
  },
  {
   "cell_type": "markdown",
   "metadata": {},
   "source": [
    "### Random Guesser"
   ]
  },
  {
   "cell_type": "code",
   "execution_count": 249,
   "metadata": {},
   "outputs": [],
   "source": [
    "# Random Guesser\n",
    "class RandomGuesser:\n",
    "    def __init__(self, wordlist: list):\n",
    "        self.wordlist = wordlist\n",
    "        self.guesses: list = list()\n",
    "        \n",
    "    def make_guess(self):\n",
    "        for i in range(len(self.wordlist)):\n",
    "            guess = self.wordlist[i]\n",
    "            if not guess in self.guesses:\n",
    "                self.guesses.append(guess)\n",
    "                return guess"
   ]
  },
  {
   "cell_type": "code",
   "execution_count": 264,
   "metadata": {},
   "outputs": [],
   "source": [
    "class Knowledge:\n",
    "    def __init__(self):\n",
    "        self.correct_letters: set = set()\n",
    "        self.possible_letters: list = [set(\"abcdefghijklmnopqrstuvwxyz\") for i in range(5)]\n",
    "\n",
    "    def update(self, update):\n",
    "        for p, l, r in update:\n",
    "            if r == 'GREY': [self.possible_letters[i].remove(l) for i in range(5) if l in self.possible_letters[i]]\n",
    "            elif r == 'YELLOW':\n",
    "                if l in self.possible_letters[p]: self.possible_letters[p].remove(l)\n",
    "                self.correct_letters.add(l)\n",
    "            else: \n",
    "                self.possible_letters[p] = set(l)\n",
    "                self.correct_letters.add(l)"
   ]
  },
  {
   "cell_type": "code",
   "execution_count": 271,
   "metadata": {},
   "outputs": [],
   "source": [
    "class UpdatedRandomGuesser:\n",
    "    def __init__(self, wordlist: list):\n",
    "        self.wordlist = wordlist\n",
    "        self.guesses: list = list()\n",
    "\n",
    "    def make_guess(self, knowledge):\n",
    "        for i in range(len(self.wordlist)):\n",
    "            guess = self.wordlist[i]\n",
    "            # check if guess is possible according to knowledge\n",
    "            # 1) Do the guess letters contain the correct letters?\n",
    "            # 2) Is the positioning of the letters possible?\n",
    "            guess_contains_correct_letters = knowledge.correct_letters.issubset(set(guess))\n",
    "            guess_letter_positions_possible = True\n",
    "            for pos, let in enumerate(guess):\n",
    "                if let not in knowledge.possible_letters[pos]: guess_letter_positions_possible = False\n",
    "            if not guess in self.guesses and guess_contains_correct_letters and guess_letter_positions_possible:\n",
    "                self.guesses.append(guess)\n",
    "                return guess"
   ]
  },
  {
   "cell_type": "markdown",
   "metadata": {},
   "source": [
    "## Let's Play!"
   ]
  },
  {
   "cell_type": "code",
   "execution_count": 314,
   "metadata": {},
   "outputs": [
    {
     "data": {
      "text/html": [
       "<div>\n",
       "<style scoped>\n",
       "    .dataframe tbody tr th:only-of-type {\n",
       "        vertical-align: middle;\n",
       "    }\n",
       "\n",
       "    .dataframe tbody tr th {\n",
       "        vertical-align: top;\n",
       "    }\n",
       "\n",
       "    .dataframe thead th {\n",
       "        text-align: right;\n",
       "    }\n",
       "</style>\n",
       "<table border=\"1\" class=\"dataframe\">\n",
       "  <thead>\n",
       "    <tr style=\"text-align: right;\">\n",
       "      <th></th>\n",
       "      <th>state</th>\n",
       "      <th>freq</th>\n",
       "    </tr>\n",
       "  </thead>\n",
       "  <tbody>\n",
       "    <tr>\n",
       "      <th>0</th>\n",
       "      <td>LOSS</td>\n",
       "      <td>998</td>\n",
       "    </tr>\n",
       "    <tr>\n",
       "      <th>1</th>\n",
       "      <td>WIN</td>\n",
       "      <td>2</td>\n",
       "    </tr>\n",
       "  </tbody>\n",
       "</table>\n",
       "</div>"
      ],
      "text/plain": [
       "  state  freq\n",
       "0  LOSS   998\n",
       "1   WIN     2"
      ]
     },
     "execution_count": 314,
     "metadata": {},
     "output_type": "execute_result"
    }
   ],
   "source": [
    "result = list()\n",
    "rg_attempt = list()\n",
    "for i in range(1000):\n",
    "    w = Wordle(wordlist=df_words['word'])\n",
    "    rg = RandomGuesser(wordlist=df_words['word'])\n",
    "    while w.game_state == 'ONGOING':\n",
    "        guess = rg.make_guess()\n",
    "        w.guess(guess)\n",
    "    result.append(w.game_state)\n",
    "    rg_attempt.append(len(w.guesses))\n",
    "\n",
    "df_rg = (pd.DataFrame(result, dtype=str)\n",
    "        .value_counts()\n",
    "        .to_frame()\n",
    "        .rename_axis(index=None, columns=None)\n",
    "        .rename({0:'freq'}, axis=1)\n",
    "        .reset_index()\n",
    "        .rename({'level_0': 'state'}, axis=1)\n",
    "      )\n",
    "df_rg"
   ]
  },
  {
   "cell_type": "code",
   "execution_count": 327,
   "metadata": {},
   "outputs": [
    {
     "data": {
      "image/png": "[encoded data removed]",
      "text/plain": [
       "<Figure size 1080x720 with 1 Axes>"
      ]
     },
     "metadata": {
      "needs_background": "light"
     },
     "output_type": "display_data"
    }
   ],
   "source": [
    "df_rg_attempts = pd.DataFrame(rg_attempt).value_counts().to_frame().rename_axis(index=None, columns=None).reset_index().rename({0: 'freq', 'level_0': 'attempts'}, axis=1)\n",
    "fig, ax = plt.subplots(1, figsize=(15, 10))\n",
    "_ = ax.bar(x=df_rg_attempts['attempts'], height=df_rg_attempts['freq'])\n",
    "_ = ax.set_xlim(0, 7)"
   ]
  },
  {
   "cell_type": "code",
   "execution_count": 319,
   "metadata": {},
   "outputs": [
    {
     "data": {
      "text/html": [
       "<div>\n",
       "<style scoped>\n",
       "    .dataframe tbody tr th:only-of-type {\n",
       "        vertical-align: middle;\n",
       "    }\n",
       "\n",
       "    .dataframe tbody tr th {\n",
       "        vertical-align: top;\n",
       "    }\n",
       "\n",
       "    .dataframe thead th {\n",
       "        text-align: right;\n",
       "    }\n",
       "</style>\n",
       "<table border=\"1\" class=\"dataframe\">\n",
       "  <thead>\n",
       "    <tr style=\"text-align: right;\">\n",
       "      <th></th>\n",
       "      <th>state</th>\n",
       "      <th>freq</th>\n",
       "    </tr>\n",
       "  </thead>\n",
       "  <tbody>\n",
       "    <tr>\n",
       "      <th>0</th>\n",
       "      <td>WIN</td>\n",
       "      <td>966</td>\n",
       "    </tr>\n",
       "    <tr>\n",
       "      <th>1</th>\n",
       "      <td>LOSS</td>\n",
       "      <td>34</td>\n",
       "    </tr>\n",
       "  </tbody>\n",
       "</table>\n",
       "</div>"
      ],
      "text/plain": [
       "  state  freq\n",
       "0   WIN   966\n",
       "1  LOSS    34"
      ]
     },
     "execution_count": 319,
     "metadata": {},
     "output_type": "execute_result"
    }
   ],
   "source": [
    "result = list()\n",
    "urg_attempt = list()\n",
    "for i in range(1000):\n",
    "    w = Wordle(wordlist=df_words['word'])\n",
    "    urg = UpdatedRandomGuesser(wordlist=df_words['word'])\n",
    "    knowledge = Knowledge()\n",
    "    while w.game_state == 'ONGOING':\n",
    "        guess = urg.make_guess(knowledge=knowledge)\n",
    "        r = w.guess(guess)\n",
    "        knowledge.update(r)\n",
    "    result.append(w.game_state)\n",
    "    urg_attempt.append(len(w.guesses))\n",
    "\n",
    "df_urg = (pd.DataFrame(result, dtype=str)\n",
    "        .value_counts()\n",
    "        .to_frame()\n",
    "        .rename_axis(index=None, columns=None)\n",
    "        .rename({0:'freq'}, axis=1)\n",
    "        .reset_index()\n",
    "        .rename({'level_0': 'state'}, axis=1)\n",
    "      )\n",
    "df_urg"
   ]
  },
  {
   "cell_type": "code",
   "execution_count": 329,
   "metadata": {},
   "outputs": [
    {
     "data": {
      "image/png": "[encoded data removed]",
      "text/plain": [
       "<Figure size 1080x720 with 1 Axes>"
      ]
     },
     "metadata": {
      "needs_background": "light"
     },
     "output_type": "display_data"
    }
   ],
   "source": [
    "df_urg_attempts = pd.DataFrame(urg_attempt).value_counts().to_frame().rename_axis(index=None, columns=None).reset_index().rename({0: 'freq', 'level_0': 'attempts'}, axis=1)\n",
    "fig, ax = plt.subplots(1, figsize=(15, 10))\n",
    "_ = ax.bar(x=df_urg_attempts['attempts'], height=df_urg_attempts['freq'])"
   ]
  }
 ],
 "metadata": {
  "kernelspec": {
   "display_name": "Python 3.10.2 64-bit",
   "language": "python",
   "name": "python3"
  },
  "language_info": {
   "codemirror_mode": {
    "name": "ipython",
    "version": 3
   },
   "file_extension": ".py",
   "mimetype": "text/x-python",
   "name": "python",
   "nbconvert_exporter": "python",
   "pygments_lexer": "ipython3",
   "version": "3.10.2"
  },
  "orig_nbformat": 4,
  "vscode": {
   "interpreter": {
    "hash": "aee8b7b246df8f9039afb4144a1f6fd8d2ca17a180786b69acc140d282b71a49"
   }
  }
 },
 "nbformat": 4,
 "nbformat_minor": 2
}
